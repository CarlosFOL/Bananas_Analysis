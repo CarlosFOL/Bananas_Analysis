{
 "cells": [
  {
   "cell_type": "markdown",
   "id": "f1110910-36e5-4dc2-8533-72776bc3df39",
   "metadata": {},
   "source": [
    "# Analysis of the Bananas\n",
    "\n",
    "* Quality Score: A numerical score, likely on a scale of 1-4 that rates the overall quality of the banana sample\n",
    "* Variety: It refers to banana's type.\n",
    "* Ripeness: How ripeness the banana is.\n",
    "* Sugar Content Brix: Amount of sugar measured in degrees Brix.\n",
    "* Firmness (kgf): It's associated with th texture of the banana (hard or soft).\n",
    "* Tree age: The age of the banana tree.\n",
    "* Altitude: It's the altitude at which bananas plants are growing, measured in meter above the sea. There are bananas that grow better in a certain altitude and conditions that others.\n",
    "* Rainfall (mm): Amount of rainfall in the zone where the bananas were harvested. A higher amount of rainfall may indicate favorable growing conditions for bananas.\n",
    "* Soil nitrogen: Measured in part per million (ppm). It's the concentration of nitrogen in the soil where the bananas were harvested. This variable is a crucial nutrient for plant growth.\n"
   ]
  },
  {
   "cell_type": "code",
   "execution_count": 4,
   "id": "0973b59c-4ba8-4de0-bc7b-36d20bcdfa26",
   "metadata": {},
   "outputs": [],
   "source": [
    "# Load the data\n",
    "bananas <- read.csv(\"../data/banana.csv\")"
   ]
  },
  {
   "cell_type": "markdown",
   "id": "c3cd15c2-62fd-4293-a066-b9d7973c0847",
   "metadata": {},
   "source": [
    "The goal of this analysis is to identify which variables are important at the time to determine the quality of a banana. And then build a regression model to predict the quality record of an unseen record. "
   ]
  },
  {
   "cell_type": "code",
   "execution_count": 20,
   "id": "49526eef-fba0-4e71-b2b7-6059e9479586",
   "metadata": {},
   "outputs": [
    {
     "data": {
      "text/plain": [
       "\n",
       "Call:\n",
       "lm(formula = quality_score ~ ., data = bananas_num)\n",
       "\n",
       "Coefficients:\n",
       "       (Intercept)      ripeness_index  sugar_content_brix        firmness_kgf  \n",
       "        -1.997e+00           2.002e-01           1.565e-01          -1.565e-02  \n",
       "         length_cm            weight_g      tree_age_years          altitude_m  \n",
       "         3.975e-02           3.207e-05           2.286e-04           3.833e-06  \n",
       "       rainfall_mm   soil_nitrogen_ppm  \n",
       "         1.692e-06          -6.756e-05  \n"
      ]
     },
     "metadata": {},
     "output_type": "display_data"
    }
   ],
   "source": [
    "# Filter those variables that are not numeric to set the feature's matrix.\n",
    "numeric_cols <- c()\n",
    "for (i in 1:ncol(bananas)){\n",
    "    if (class(bananas[, i]) == \"numeric\"){\n",
    "        numeric_cols <- c(numeric_cols, i)\n",
    "    }\n",
    "}\n",
    "bananas_num <- bananas[, numeric_cols]\n",
    "# Build a regression model by setting the quality_score and the rest as explained variables. \n",
    "model <- lm(quality_score~., data = bananas_num)\n",
    "model"
   ]
  },
  {
   "cell_type": "markdown",
   "id": "5d6a50b1-5b0e-444e-987b-98ed3a7282a9",
   "metadata": {},
   "source": [
    "In this case we consider the rest as predicted variables, but this could cause that the regression model is not good to predict the quality score of a banana. Therefore, it will be explained how to know when a model is good or not and how to improve it. "
   ]
  },
  {
   "cell_type": "code",
   "execution_count": 22,
   "id": "a701cf3d-9d08-4434-af4b-9a00178e17bd",
   "metadata": {},
   "outputs": [
    {
     "data": {
      "text/plain": [
       "   Min. 1st Qu.  Median    Mean 3rd Qu.    Max. \n",
       "  0.920   2.090   2.440   2.465   2.850   3.890 "
      ]
     },
     "metadata": {},
     "output_type": "display_data"
    }
   ],
   "source": [
    "# Analyse the domain of the target variable\n",
    "summary(bananas_num$quality_score)"
   ]
  },
  {
   "cell_type": "code",
   "execution_count": 34,
   "id": "3e0bbf8d-7b8b-4bd8-9cb9-a8deb0a4b082",
   "metadata": {},
   "outputs": [
    {
     "name": "stdout",
     "output_type": "stream",
     "text": [
      "The expected quality score for the banana associated with observation 1: 1.85639"
     ]
    }
   ],
   "source": [
    "# Another form to calculate the coefficientes of the model by using the canonical regression function\n",
    "Y <- bananas_num[, \"quality_score\"] # Dependent or target variable\n",
    "X <- bananas_num[, -1] # Exclude the target variable\n",
    "ones_col <- matrix(rep(1, nrow(bananas_num)), nrow = nrow(bananas_num))\n",
    "# Add a column with ones\n",
    "X <- as.matrix(cbind(ones_col, X)) # Reserved for intercept (\\beta0)\n",
    "# Get the coefficients vector\n",
    "betas <- solve(t(X) %*% X) %*% t(X) %*% Y\n",
    "# Now, we can compute the predictive values of the observations.\n",
    "y_hat <- X %*% betas\n",
    "# To understand the content of y_hat\n",
    "cat(\"The expected quality score for the banana associated with observation 1:\", y_hat[1])"
   ]
  },
  {
   "cell_type": "code",
   "execution_count": 41,
   "id": "260ca70d-06ab-4b71-873a-937e20a1d25e",
   "metadata": {},
   "outputs": [
    {
     "data": {
      "text/html": [
       "0.00472704891178264"
      ],
      "text/latex": [
       "0.00472704891178264"
      ],
      "text/markdown": [
       "0.00472704891178264"
      ],
      "text/plain": [
       "[1] 0.004727049"
      ]
     },
     "metadata": {},
     "output_type": "display_data"
    }
   ],
   "source": [
    "# Calculate the mean of the residuals or errors that our model committed.\n",
    "# If it's accuracy the value has to be close to 0.\n",
    "SSR <- sum((Y - y_hat)^2)\n",
    "# To calculte the mean of the sum of squares it's important to know the number of\n",
    "# degrees of freedom that we have now (n-10), since we have estimated 10 betas.\n",
    "n <- nrow(bananas_num) - 10\n",
    "MSSR <- 1/n * SSR\n",
    "MSSR"
   ]
  },
  {
   "cell_type": "markdown",
   "id": "3e10b12d-13d7-4265-ad38-993415d79953",
   "metadata": {},
   "source": [
    "Despite the fact that we have choosen all the numeric variables to build the model, the predictions are very close to real observations.\n",
    "$$\n",
    "MSSR = 4.72 \\cdot 10^{-3} \n",
    "$$"
   ]
  },
  {
   "cell_type": "code",
   "execution_count": 49,
   "id": "3e3568ab-942d-4edd-827f-6a5b872b7ab0",
   "metadata": {},
   "outputs": [],
   "source": [
    "# To do the same process by using the model object\n",
    "MSSR <- sum(model$residuals^2) / model$df.residual\n",
    "Y_hat <- model$fitted.values # Predictive values for each observation"
   ]
  },
  {
   "cell_type": "markdown",
   "id": "6ab31fa3-085c-44c8-bb56-08e636c7c413",
   "metadata": {},
   "source": [
    "Another important result that it can be computed by using the expression that we use to calculate the coefficients vector:\n",
    "$$\n",
    "Y^{\\hat{}} = X\\beta^{\\hat{}} = X(X^tX)^{-1}X^tY = HY;\\quad H =  X(X^tX)^{-1}X^t\n",
    "$$\n",
    "The famuous Hat matrix."
   ]
  },
  {
   "cell_type": "code",
   "execution_count": 46,
   "id": "461359ec-ff3a-4271-b719-3f595afef11a",
   "metadata": {},
   "outputs": [
    {
     "data": {
      "text/html": [
       "1000"
      ],
      "text/latex": [
       "1000"
      ],
      "text/markdown": [
       "1000"
      ],
      "text/plain": [
       "[1] 1000"
      ]
     },
     "metadata": {},
     "output_type": "display_data"
    }
   ],
   "source": []
  }
 ],
 "metadata": {
  "kernelspec": {
   "display_name": "R",
   "language": "R",
   "name": "ir"
  },
  "language_info": {
   "codemirror_mode": "r",
   "file_extension": ".r",
   "mimetype": "text/x-r-source",
   "name": "R",
   "pygments_lexer": "r",
   "version": "4.3.3"
  }
 },
 "nbformat": 4,
 "nbformat_minor": 5
}
