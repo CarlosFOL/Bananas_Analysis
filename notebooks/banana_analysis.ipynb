{
 "cells": [
  {
   "cell_type": "markdown",
   "id": "f1110910-36e5-4dc2-8533-72776bc3df39",
   "metadata": {},
   "source": [
    "# Analysis of the Bananas\n",
    "\n",
    "* Quality Score: A numerical score, likely on a scale of 1-4 that rates the overall quality of the banana sample\n",
    "* Ripeness: How ripeness the banana is.\n",
    "* Sugar Content Brix: Amount of sugar measured in degrees Brix.\n",
    "* Firmness (kgf): It's associated with th texture of the banana (hard or soft).\n",
    "* Tree age: The age of the banana tree.\n",
    "* Altitude: It's the altitude at which bananas plants are growing, measured in meter above the sea. There are bananas that grow better in a certain altitude and conditions that others.\n",
    "* Rainfall (mm): Amount of rainfall in the zone where the bananas were harvested. A higher amount of rainfall may indicate favorable growing conditions for bananas.\n",
    "* Soil nitrogen: Measured in part per million (ppm). It's the concentration of nitrogen in the soil where the bananas were harvested. This variable is a crucial nutrient for plant growth.\n"
   ]
  },
  {
   "cell_type": "code",
   "execution_count": 1,
   "id": "0973b59c-4ba8-4de0-bc7b-36d20bcdfa26",
   "metadata": {},
   "outputs": [],
   "source": [
    "# Load the data\n",
    "bananas <- read.csv(\"../data/banana.csv\")"
   ]
  },
  {
   "cell_type": "markdown",
   "id": "c3cd15c2-62fd-4293-a066-b9d7973c0847",
   "metadata": {},
   "source": [
    "The goal of this analysis is to identify which variables are important at the time to determine the quality of a banana. And then build a regression model to predict the quality of an unseen record. "
   ]
  },
  {
   "cell_type": "code",
   "execution_count": 2,
   "id": "49526eef-fba0-4e71-b2b7-6059e9479586",
   "metadata": {},
   "outputs": [
    {
     "data": {
      "text/plain": [
       "\n",
       "Call:\n",
       "lm(formula = quality_score ~ ., data = bananas_num)\n",
       "\n",
       "Coefficients:\n",
       "       (Intercept)      ripeness_index  sugar_content_brix        firmness_kgf  \n",
       "        -1.997e+00           2.002e-01           1.565e-01          -1.565e-02  \n",
       "         length_cm            weight_g      tree_age_years          altitude_m  \n",
       "         3.975e-02           3.207e-05           2.286e-04           3.833e-06  \n",
       "       rainfall_mm   soil_nitrogen_ppm  \n",
       "         1.692e-06          -6.756e-05  \n"
      ]
     },
     "metadata": {},
     "output_type": "display_data"
    }
   ],
   "source": [
    "# Filter those variables that are not numeric to build the feature's matrix.\n",
    "numeric_cols <- c()\n",
    "for (i in 1:ncol(bananas)){\n",
    "    if (class(bananas[, i]) == \"numeric\"){\n",
    "        numeric_cols <- c(numeric_cols, i)\n",
    "    }\n",
    "}\n",
    "bananas_num <- bananas[, numeric_cols]\n",
    "# Build a regression model by setting the quality_score as the target and the rest as explained variables. \n",
    "model <- lm(quality_score~., data = bananas_num)\n",
    "model"
   ]
  },
  {
   "cell_type": "markdown",
   "id": "5d6a50b1-5b0e-444e-987b-98ed3a7282a9",
   "metadata": {},
   "source": [
    "In this case we consider the rest as predicted variables, but this lead that the regression model is not good to predict the quality score of a banana. Therefore, it will be explained how to know when a model is good or not and how to improve it. "
   ]
  },
  {
   "cell_type": "code",
   "execution_count": 3,
   "id": "a701cf3d-9d08-4434-af4b-9a00178e17bd",
   "metadata": {},
   "outputs": [
    {
     "data": {
      "text/plain": [
       "   Min. 1st Qu.  Median    Mean 3rd Qu.    Max. \n",
       "  0.920   2.090   2.440   2.465   2.850   3.890 "
      ]
     },
     "metadata": {},
     "output_type": "display_data"
    }
   ],
   "source": [
    "# Analyse the domain of the target variable\n",
    "summary(bananas_num$quality_score)"
   ]
  },
  {
   "cell_type": "code",
   "execution_count": 4,
   "id": "3e0bbf8d-7b8b-4bd8-9cb9-a8deb0a4b082",
   "metadata": {},
   "outputs": [
    {
     "name": "stdout",
     "output_type": "stream",
     "text": [
      "The expected quality score for the banana associated with observation 1: 1.85639"
     ]
    }
   ],
   "source": [
    "# Another form to calculate the coefficientes of the model by using the canonical equation of regression \n",
    "Y <- bananas_num[, \"quality_score\"] # Dependent or target variable\n",
    "X <- bananas_num[, -1] # Exclude the target variable\n",
    "ones_col <- matrix(rep(1, nrow(bananas_num)), nrow = nrow(bananas_num))\n",
    "# Add a column with ones\n",
    "X <- as.matrix(cbind(ones_col, X)) # Reserved for intercept (\\beta0)\n",
    "# Get the coefficients vector\n",
    "betas <- solve(t(X) %*% X) %*% t(X) %*% Y\n",
    "# Now, we can compute the predictive values of the observations.\n",
    "y_hat <- X %*% betas\n",
    "# To understand the content of y_hat\n",
    "cat(\"The expected quality score for the banana associated with observation 1:\", y_hat[1])"
   ]
  },
  {
   "cell_type": "code",
   "execution_count": 5,
   "id": "260ca70d-06ab-4b71-873a-937e20a1d25e",
   "metadata": {},
   "outputs": [
    {
     "data": {
      "text/html": [
       "0.00472704891178264"
      ],
      "text/latex": [
       "0.00472704891178264"
      ],
      "text/markdown": [
       "0.00472704891178264"
      ],
      "text/plain": [
       "[1] 0.004727049"
      ]
     },
     "metadata": {},
     "output_type": "display_data"
    }
   ],
   "source": [
    "# Calculate the mean of the residuals or errors that our model committed.\n",
    "# If it's accuracy the value has to be close to 0.\n",
    "SSR <- sum((Y - y_hat)^2)\n",
    "# To calculte the mean of the sum of squares it's important to know the number of\n",
    "# degrees of freedom that we have now (n-10), because we have estimated 10 betas.\n",
    "n <- nrow(bananas_num) - 10\n",
    "MSSR <- 1/n * SSR\n",
    "MSSR"
   ]
  },
  {
   "cell_type": "markdown",
   "id": "3e10b12d-13d7-4265-ad38-993415d79953",
   "metadata": {},
   "source": [
    "Despite the fact that we have choosen all the numeric variables to build the model, the predictions are very close to real observations.\n",
    "$$\n",
    "MSSR = 4.72 \\cdot 10^{-3} \n",
    "$$"
   ]
  },
  {
   "cell_type": "code",
   "execution_count": 6,
   "id": "3e3568ab-942d-4edd-827f-6a5b872b7ab0",
   "metadata": {},
   "outputs": [],
   "source": [
    "# To do the same process by using the model object\n",
    "MSSR <- sum(model$residuals^2) / model$df.residual\n",
    "Y_hat <- model$fitted.values # Predictive values for each observation"
   ]
  },
  {
   "cell_type": "markdown",
   "id": "6ab31fa3-085c-44c8-bb56-08e636c7c413",
   "metadata": {},
   "source": [
    "Another important result that it can be computed by using the expression that we use to calculate the coefficients vector:\n",
    "$$\n",
    "Y^{\\hat{}} = X\\beta^{\\hat{}} = X(X^tX)^{-1}X^tY = HY;\\quad H =  X(X^tX)^{-1}X^t\n",
    "$$\n",
    "The famuous Hat matrix. This stores the leverages ($h$) of each observation along its diagonal. These leverage values measure how far an observation is from the \"center\" of the predictor variable space, considering the multivariate relationships between variables.\n",
    "\n",
    "A high leverage value indicates that the observation has a greater potential to influence the estimation of the regression coefficients. This might lead to a hyperplane that poorly represents the overall data structure."
   ]
  },
  {
   "cell_type": "code",
   "execution_count": 13,
   "id": "461359ec-ff3a-4271-b719-3f595afef11a",
   "metadata": {},
   "outputs": [],
   "source": [
    "H <- X %*% solve(t(X) %*% X) %*% t(X)\n",
    "leverages <- diag(H)"
   ]
  },
  {
   "cell_type": "markdown",
   "id": "f51c2215-8e3b-4adf-8ebc-e57bb526d50b",
   "metadata": {},
   "source": [
    "A leverage $h_{ii}$ is considered influential if it's greater than twice average leverage.\n",
    "$$\n",
    "h_{ii} \\text{ is influential } \\iff h_{ii} > 2(\\frac{1}{n}\\Sigma_{i=1}^n h_{ii})\n",
    "$$\n",
    "And there is a property that sets that the total sum of the leverages is equal to the number of coefficientes that we've estimated, that means $\\Sigma_{i=1}^n h_{ii} = k + 1$.\n",
    "\n",
    "$$\n",
    "h_{ii} \\text{ is influential } \\iff h_{ii} > 2(\\frac{\\rho}{n});\\quad \\rho = k + 1\n",
    "$$\n"
   ]
  },
  {
   "cell_type": "code",
   "execution_count": 31,
   "id": "733e31e6-a0e1-4d59-a92d-382278609461",
   "metadata": {},
   "outputs": [
    {
     "name": "stdout",
     "output_type": "stream",
     "text": [
      "[1] \"There are not influential points\"\n"
     ]
    }
   ],
   "source": [
    "p <- model$rank # Number of estimated coefficientes for the model \n",
    "n <- nrow(bananas_num) # Numbe of observations\n",
    "# To search for the influential points\n",
    "influential_points <- which(leverages > (2 * p/n))\n",
    "if (sum(influential_points) == 0){\n",
    "    print(\"There are not influential points\")\n",
    "}else{\n",
    "    cat(\"Influential points\", influential_points)\n",
    "}"
   ]
  },
  {
   "cell_type": "code",
   "execution_count": 53,
   "id": "b70cc8b7-c458-489e-8ffe-f7c3fa722949",
   "metadata": {},
   "outputs": [
    {
     "data": {
      "text/plain": [
       "\n",
       "Call:\n",
       "lm(formula = quality_score ~ ., data = bananas_num)\n",
       "\n",
       "Residuals:\n",
       "      Min        1Q    Median        3Q       Max \n",
       "-0.217729 -0.055512  0.001806  0.052638  0.146401 \n",
       "\n",
       "Coefficients:\n",
       "                     Estimate Std. Error t value Pr(>|t|)    \n",
       "(Intercept)        -1.997e+00  2.610e-02 -76.504   <2e-16 ***\n",
       "ripeness_index      2.002e-01  1.248e-03 160.408   <2e-16 ***\n",
       "sugar_content_brix  1.565e-01  1.072e-03 146.038   <2e-16 ***\n",
       "firmness_kgf       -1.565e-02  1.692e-03  -9.252   <2e-16 ***\n",
       "length_cm           3.975e-02  3.806e-04 104.441   <2e-16 ***\n",
       "weight_g            3.207e-05  4.440e-05   0.722   0.4704    \n",
       "tree_age_years      2.286e-04  4.181e-04   0.547   0.5846    \n",
       "altitude_m          3.833e-06  5.113e-06   0.750   0.4536    \n",
       "rainfall_mm         1.692e-06  3.864e-06   0.438   0.6614    \n",
       "soil_nitrogen_ppm  -6.756e-05  4.068e-05  -1.661   0.0971 .  \n",
       "---\n",
       "Signif. codes:  0 ‘***’ 0.001 ‘**’ 0.01 ‘*’ 0.05 ‘.’ 0.1 ‘ ’ 1\n",
       "\n",
       "Residual standard error: 0.06875 on 990 degrees of freedom\n",
       "Multiple R-squared:  0.984,\tAdjusted R-squared:  0.9838 \n",
       "F-statistic:  6760 on 9 and 990 DF,  p-value: < 2.2e-16\n"
      ]
     },
     "metadata": {},
     "output_type": "display_data"
    }
   ],
   "source": [
    "# Print the summary of the coefficients of the model\n",
    "summary(model)"
   ]
  },
  {
   "cell_type": "markdown",
   "id": "b3c2c399-494e-4cf0-99c8-a27bc4141dca",
   "metadata": {},
   "source": [
    "Understanding this table is really important to know, because you can see which independent variables are necessary to use in the model, the mean error that it commits at the time to get the predictive values and the predictive capacity of the model. So I will explain it in detail:\n",
    "\n",
    "* Residuals's section: How the errors or residuals that the model committed to compute the predictive values vary. As we can see there is a banana whose estimated quality rate is greater than the real by 0.21 units. Remind that an residual is $e_i = y_i - y_i^{\\text{hat}}$. It's important that the residuals are close to 0, sinde it's a indicator that the estimated values are close of real ones.\n",
    "* Coefficients's section:\n",
    "  * Esimate: Estimated value of the coefficient of an explanatory variable. It represents the influence that a variable has at the time to explain the variability of the response or dependent variable.\n",
    "  * Std. Error: The error committed when calculating the estimator\n",
    "    \n",
    "  To understand the two last columns it's important to know what hypothesis contrast is being used here:\n",
    "  $$\n",
    "  \\begin{cases}H_0:\\beta_i = 0\\\\H_1:\\beta_i \\ne 0\\end{cases}\n",
    "  $$\n",
    "  This means if the independent variable $X_i$ is significant to explain the variability of the quality rate ($Y$). So we have to standardize the estimator $\\beta_i^{\\text{hat}}$ in the scenario where the $H_0 =$ is true:\n",
    "  $$\n",
    "  \\beta_i^{ \\text{hat} } \\in N(\\beta_i, S_{\\beta_i^{\\text{hat}}}) \\rightarrow t = \\frac{ \\beta_i^{ \\text{hat} } - \\beta_i}{S_{\\beta_i^{\\text{hat}}}} = \\frac{ \\beta_i^{ \\text{hat} }}{S_{\\beta_i^{\\text{hat}}}}\n",
    "  $$\n",
    "\n",
    "  Then the third column is calculated as the division of the first and second one: $t=\\frac{\\text{Estimate}}{\\text{Std. Error}}$. Finally, this value is used to compute the $p$-value to know if it's a significant hypothesis contrast (i.e. accept $H_1$) or not.\n",
    "  $$\n",
    "  p\\text{-value} < [0.01, 0.05, 0.1]  \\rightarrow \\text{Accept }H_1 \\rightarrow \\text{This variable is significant at the time to explain the variability of } Y\n",
    "  $$\n",
    "  And as we can see, we only get significant values for the variables: ripeness_index, sugar_content_brix, firmness_kgf and length_cm.\n",
    "\n",
    "* Residual standard error: It's the square root of the Mean of Sum of Squared Residuals (MSSR), that means the average error made by the model.\n",
    "* Multiple R-squared ($R^2$): It's a indicator of predictive indicator of the model, since it represents the percentage of total variance that is explained for the model:\n",
    "  $$\n",
    "  R^2 = \\frac{MSS(E)}{MSS(G)}:\\quad E \\rightarrow \\text{Explained};G \\rightarrow \\text{Global}\n",
    "  $$"
   ]
  },
  {
   "cell_type": "code",
   "execution_count": null,
   "id": "2e24d0da-5f30-47b6-b81c-97b06cf96a5d",
   "metadata": {},
   "outputs": [],
   "source": []
  }
 ],
 "metadata": {
  "kernelspec": {
   "display_name": "R",
   "language": "R",
   "name": "ir"
  },
  "language_info": {
   "codemirror_mode": "r",
   "file_extension": ".r",
   "mimetype": "text/x-r-source",
   "name": "R",
   "pygments_lexer": "r",
   "version": "4.3.3"
  }
 },
 "nbformat": 4,
 "nbformat_minor": 5
}
